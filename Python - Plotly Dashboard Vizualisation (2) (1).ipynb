{
 "cells": [
  {
   "cell_type": "code",
   "execution_count": null,
   "metadata": {},
   "outputs": [],
   "source": [
    "# Youtube Link : https://www.youtube.com/watch?v=GGL6U0k8WYA&t=588s"
   ]
  },
  {
   "cell_type": "code",
   "execution_count": null,
   "metadata": {},
   "outputs": [],
   "source": [
    "pip install plotly"
   ]
  },
  {
   "cell_type": "code",
   "execution_count": null,
   "metadata": {},
   "outputs": [],
   "source": [
    "pip install cufflinks"
   ]
  },
  {
   "cell_type": "code",
   "execution_count": null,
   "metadata": {},
   "outputs": [],
   "source": [
    "pip install chart_studio"
   ]
  },
  {
   "cell_type": "code",
   "execution_count": null,
   "metadata": {},
   "outputs": [],
   "source": [
    "#Impotrting all the Libraries for plotly\n",
    "import pandas as pd\n",
    "import numpy as np\n",
    "import chart_studio.plotly as py\n",
    "import cufflinks as cf\n",
    "import seaborn as sns\n",
    "import plotly.express as px #this is for the data libraries\n",
    "import matplotlib.pyplot as plt\n",
    "%matplotlib inline\n",
    "\n",
    "#Making the libraries work offline\n",
    "from plotly.offline import download_plotlyjs, init_notebook_mode, plot, iplot\n",
    "init_notebook_mode(connected=True)\n",
    "cf.go_offline()"
   ]
  },
  {
   "cell_type": "code",
   "execution_count": null,
   "metadata": {},
   "outputs": [],
   "source": [
    "array_1 = np.random.randn(50,4)\n",
    "DataFrame_1 = pd.DataFrame(array_1,columns=['A','B','C','D'])\n",
    "DataFrame_1.head()"
   ]
  },
  {
   "cell_type": "code",
   "execution_count": null,
   "metadata": {},
   "outputs": [],
   "source": [
    "#Normal Plotting\n",
    "DataFrame_1.plot()"
   ]
  },
  {
   "cell_type": "code",
   "execution_count": null,
   "metadata": {},
   "outputs": [],
   "source": [
    "#iplotting (Dashboard)\n",
    "DataFrame_1.iplot()"
   ]
  },
  {
   "cell_type": "markdown",
   "metadata": {},
   "source": [
    "# Line Plots"
   ]
  },
  {
   "cell_type": "code",
   "execution_count": null,
   "metadata": {},
   "outputs": [],
   "source": [
    "#This library will be used many times to customise the graphs\n",
    "import plotly.graph_objects as go\n",
    "#Importing google Price Data to make a line plot\n",
    "df_stocks = px.data.stocks()"
   ]
  },
  {
   "cell_type": "code",
   "execution_count": null,
   "metadata": {},
   "outputs": [],
   "source": [
    "# Checking for columns\n",
    "df_stocks.columns"
   ]
  },
  {
   "cell_type": "code",
   "execution_count": null,
   "metadata": {},
   "outputs": [],
   "source": [
    "#Building a Line Graph out of plotly\n",
    "px.line(df_stocks,x='date',y='GOOG',labels={'x':'Date','y':'Price'})"
   ]
  },
  {
   "cell_type": "markdown",
   "metadata": {},
   "source": [
    "## Multiple Different line plots"
   ]
  },
  {
   "cell_type": "code",
   "execution_count": null,
   "metadata": {},
   "outputs": [],
   "source": [
    "px.line(df_stocks,x='date',y=['GOOG','AAPL'],labels={'x':'Date', 'y':'Price'},title= 'Apple vs. Google')"
   ]
  },
  {
   "cell_type": "markdown",
   "metadata": {},
   "source": [
    "# COMPLEX LINE GRAPH (PART - 1)"
   ]
  },
  {
   "cell_type": "code",
   "execution_count": null,
   "metadata": {},
   "outputs": [],
   "source": [
    "fig = go.Figure()\n",
    "fig.add_trace(go.Scatter(x=df_stocks.date,y=df_stocks.AAPL,mode='lines',name='Apple'))\n",
    "fig.add_trace(go.Scatter(x=df_stocks.date,y=df_stocks.AMZN,mode='lines+markers',name='Amazon'))\n",
    "fig.add_trace(go.Scatter(x=df_stocks.date,y=df_stocks.GOOG,mode='lines',name='Google',line=dict(color='firebrick',width=2,dash='dashdot')))\n",
    "#instead of dashdot, you can also type dash or dot"
   ]
  },
  {
   "cell_type": "markdown",
   "metadata": {},
   "source": [
    "# Further Styling the Figure"
   ]
  },
  {
   "cell_type": "code",
   "execution_count": null,
   "metadata": {},
   "outputs": [],
   "source": [
    "fig = go.Figure()\n",
    "fig.add_trace(go.Scatter(x=df_stocks.date,y=df_stocks.AAPL,mode='lines',name='Apple'))\n",
    "fig.add_trace(go.Scatter(x=df_stocks.date,y=df_stocks.AMZN,mode='lines+markers',name='Amazon'))\n",
    "fig.add_trace(go.Scatter(x=df_stocks.date,y=df_stocks.GOOG,mode='lines',name='Google',line=dict(color='firebrick',width=2,dash='dashdot')))\n",
    "#instead of dashdot, you can also type dash or dot\n",
    "\n",
    "# further Styling the Graph\n",
    "fig.update_layout(title='Stock Price Data 2018 - 2020',xaxis_title = 'Date',yaxis_title='Price')"
   ]
  },
  {
   "cell_type": "markdown",
   "metadata": {},
   "source": [
    "## More Styling the Line Graph (Style Grid)"
   ]
  },
  {
   "cell_type": "code",
   "execution_count": null,
   "metadata": {},
   "outputs": [],
   "source": [
    "fig = go.Figure()\n",
    "fig.add_trace(go.Scatter(x=df_stocks.date,y=df_stocks.AAPL,mode='lines',name='Apple'))\n",
    "fig.add_trace(go.Scatter(x=df_stocks.date,y=df_stocks.AMZN,mode='lines+markers',name='Amazon'))\n",
    "fig.add_trace(go.Scatter(x=df_stocks.date,y=df_stocks.GOOG,mode='lines',name='Google',line=dict(color='firebrick',width=2,dash='dashdot')))\n",
    "#instead of dashdot, you can also type dash or dot\n",
    "\n",
    "fig.update_layout(\n",
    "xaxis=dict(showline = True,\n",
    "          showgrid = False,\n",
    "          showticklabels = True,\n",
    "          linecolor ='rgb(204,204,204)',\n",
    "          linewidth = 2,\n",
    "          ticks='outside',\n",
    "          tickfont=dict(family='Arial',size=12,color = 'rgb(82,82,82)',\n",
    "),\n",
    "),\n",
    "yaxis=dict(showgrid=False,\n",
    "          zeroline=False,\n",
    "          showline = False,\n",
    "          showticklabels=False),\n",
    "autosize=False,\n",
    "margin = dict(autoexpand = False,\n",
    "             l=110,\n",
    "             r=20,\n",
    "             t=110,),\n",
    "showlegend=False,\n",
    "plot_bgcolor = 'white')\n",
    "\n",
    "# Most of the plots use the same changes, you can do it accordingly"
   ]
  },
  {
   "cell_type": "markdown",
   "metadata": {},
   "source": [
    "# BAR CHART"
   ]
  },
  {
   "cell_type": "code",
   "execution_count": null,
   "metadata": {},
   "outputs": [],
   "source": [
    "#Dataset  - Population changes in the united states\n",
    "df_us = px.data.gapminder().query(\"country == 'United States'\")\n",
    "df_us.head()"
   ]
  },
  {
   "cell_type": "markdown",
   "metadata": {},
   "source": [
    "# Building a Bar Graph out of plotly"
   ]
  },
  {
   "cell_type": "code",
   "execution_count": null,
   "metadata": {},
   "outputs": [],
   "source": [
    "px.bar(df_us,x='year',y='pop')"
   ]
  },
  {
   "cell_type": "markdown",
   "metadata": {},
   "source": [
    "## STACKED BAR GRAPH"
   ]
  },
  {
   "cell_type": "code",
   "execution_count": null,
   "metadata": {},
   "outputs": [],
   "source": [
    "df_tips = px.data.tips()\n",
    "df_tips.head()"
   ]
  },
  {
   "cell_type": "code",
   "execution_count": null,
   "metadata": {},
   "outputs": [],
   "source": [
    "# Building a Stacked Bar Graph\n",
    "px.bar(df_tips,x='day',y='tip',color='sex',title='Tips by Sex on Each Day',labels={'tip':'Tip Amount','day':'Day of the Week'})"
   ]
  },
  {
   "cell_type": "code",
   "execution_count": null,
   "metadata": {},
   "outputs": [],
   "source": [
    "# Building the Bar Graph side by side\n",
    "px.bar(df_tips,x='sex',y='total_bill',color='smoker',barmode='group')"
   ]
  },
  {
   "cell_type": "markdown",
   "metadata": {},
   "source": [
    "## Another Type of Bar Chart"
   ]
  },
  {
   "cell_type": "code",
   "execution_count": null,
   "metadata": {},
   "outputs": [],
   "source": [
    "# importing another data from gapminder\n",
    "df_europe = px.data.gapminder().query(\"continent == 'Europe' and year == 2007 and pop > 2.e6\")\n",
    "df_europe.head()"
   ]
  },
  {
   "cell_type": "code",
   "execution_count": null,
   "metadata": {},
   "outputs": [],
   "source": [
    "fig = px.bar(df_europe, y='pop',x='country',text='pop',color = 'country')\n",
    "fig"
   ]
  },
  {
   "cell_type": "code",
   "execution_count": null,
   "metadata": {},
   "outputs": [],
   "source": [
    "#putting poplulation text above the bar\n",
    "fig.update_traces(texttemplate='%{text:.2s}',textposition = 'outside') #this is for updating the text\n",
    "fig.update_layout(uniformtext_minsize=8)\n",
    "fig.update_layout(xaxis_tickangle=-45)"
   ]
  },
  {
   "cell_type": "markdown",
   "metadata": {},
   "source": [
    "# Scatter Plot"
   ]
  },
  {
   "cell_type": "code",
   "execution_count": null,
   "metadata": {},
   "outputs": [],
   "source": [
    "df_iris = px.data.iris()\n",
    "df_iris.head()"
   ]
  },
  {
   "cell_type": "code",
   "execution_count": null,
   "metadata": {},
   "outputs": [],
   "source": [
    "px.scatter(df_iris,x='sepal_width',y='sepal_length',color='species',size='petal_length',hover_data=['petal_width'])"
   ]
  },
  {
   "cell_type": "markdown",
   "metadata": {},
   "source": [
    "# customized scatter plot"
   ]
  },
  {
   "cell_type": "code",
   "execution_count": null,
   "metadata": {},
   "outputs": [],
   "source": [
    "px.scatter(df_iris,x='sepal_width',y='sepal_length',color='species',size='petal_length',hover_data=['petal_width'])\n",
    "\n",
    "fig = go.Figure()\n",
    "fig.add_trace(go.Scatter(x=df_iris.sepal_width,y=df_iris.sepal_length,\n",
    "mode='markers',\n",
    "marker_color=df_iris.sepal_width,\n",
    "text=df_iris.species,\n",
    "marker=dict(showscale=True)))\n",
    "fig.update_traces(marker_line_width = 2,marker_size =10)"
   ]
  },
  {
   "cell_type": "markdown",
   "metadata": {},
   "source": [
    "## suppose we are working with a massive scatter plot"
   ]
  },
  {
   "cell_type": "code",
   "execution_count": null,
   "metadata": {},
   "outputs": [],
   "source": [
    "px.scatter(df_iris,x='sepal_width',y='sepal_length',color='species',size='petal_length',hover_data=['petal_width'])\n",
    "\n",
    "fig=go.Figure(data=go.Scattergl(x=np.random.randn(100000),\n",
    "y=np.random.randn(100000),\n",
    "mode='markers',\n",
    "marker=dict(\n",
    "color=np.random.randn(100000),\n",
    "colorscale='Viridis',\n",
    "line_width=1)))\n",
    "fig"
   ]
  },
  {
   "cell_type": "markdown",
   "metadata": {},
   "source": [
    "# Pie Chart"
   ]
  },
  {
   "cell_type": "code",
   "execution_count": null,
   "metadata": {},
   "outputs": [],
   "source": [
    "df_asia = px.data.gapminder().query(\"year == 2007\").query(\"continent == 'Asia'\")\n",
    "df_asia.head()"
   ]
  },
  {
   "cell_type": "code",
   "execution_count": null,
   "metadata": {},
   "outputs": [],
   "source": [
    "px.pie(df_asia, values='pop', names='country', \n",
    "       title='Population of Asian continent', \n",
    "       color_discrete_sequence=px.colors.sequential.RdBu)"
   ]
  },
  {
   "cell_type": "markdown",
   "metadata": {},
   "source": [
    "# Color Maps"
   ]
  },
  {
   "cell_type": "code",
   "execution_count": null,
   "metadata": {},
   "outputs": [],
   "source": [
    "colors = ['blue','green','black','purple','red','brown']\n",
    "fig = go.Figure(data=[go.Pie(labels=['Water','Grass','Normal','Psychic','Fire','Ground'],\n",
    "                            values=[110,90,80,80,70,60])])\n",
    "fig"
   ]
  },
  {
   "cell_type": "markdown",
   "metadata": {},
   "source": [
    "## Updating the Pie Chart"
   ]
  },
  {
   "cell_type": "code",
   "execution_count": null,
   "metadata": {},
   "outputs": [],
   "source": [
    "colors = ['blue','green','black','purple','red','brown']\n",
    "fig = go.Figure(data=[go.Pie(labels=['Water','Grass','Normal','Psychic','Fire','Ground'],\n",
    "                            values=[110,90,80,80,70,60])])\n",
    "\n",
    "fig.update_traces(hoverinfo='label+percent',\n",
    "                 textfont_size = 10,\n",
    "                 textinfo='label+percent',\n",
    "                 pull=[0.1,0,0.2,0,0,0],\n",
    "                 marker=dict(colors=colors,line=dict(color='#FFFFFF',width=2)))\n",
    "fig"
   ]
  },
  {
   "cell_type": "markdown",
   "metadata": {},
   "source": [
    "# Histograms"
   ]
  },
  {
   "cell_type": "code",
   "execution_count": null,
   "metadata": {},
   "outputs": [],
   "source": [
    "dice_1 = np.random.randint(1,7,5000)\n",
    "dice_2 = np.random.randint(1,7,5000)\n",
    "dice_sum = dice_1 + dice_2\n",
    "fig = px.histogram(dice_sum,nbins=11,\n",
    "                   labels={'value':'Dice Roll'},\n",
    "                  title='5000 Dice Roll Histogram',\n",
    "                  marginal='violin',\n",
    "                  color_discrete_sequence=['green'])\n",
    "fig"
   ]
  },
  {
   "cell_type": "markdown",
   "metadata": {},
   "source": [
    "# Histogram without the violin plot"
   ]
  },
  {
   "cell_type": "code",
   "execution_count": null,
   "metadata": {},
   "outputs": [],
   "source": [
    "dice_1 = np.random.randint(1,7,5000)\n",
    "dice_2 = np.random.randint(1,7,5000)\n",
    "dice_sum = dice_1 + dice_2\n",
    "fig = px.histogram(dice_sum,nbins=11,\n",
    "                   labels={'value':'Dice Roll'},\n",
    "                  title='5000 Dice Roll Histogram',\n",
    "                  color_discrete_sequence=['green'])\n",
    "fig"
   ]
  },
  {
   "cell_type": "markdown",
   "metadata": {},
   "source": [
    "# Styling it a little bit different"
   ]
  },
  {
   "cell_type": "code",
   "execution_count": null,
   "metadata": {},
   "outputs": [],
   "source": [
    "dice_1 = np.random.randint(1,7,5000)\n",
    "dice_2 = np.random.randint(1,7,5000)\n",
    "dice_sum = dice_1 + dice_2\n",
    "fig = px.histogram(dice_sum,nbins=11,\n",
    "                   labels={'value':'Dice Roll'},\n",
    "                  title='5000 Dice Roll Histogram',\n",
    "                  color_discrete_sequence=['green'])\n",
    "\n",
    "fig.update_layout(\n",
    "xaxis_title_text = 'Dice Roll',\n",
    "yaxis_title_text = 'Dice Sum',\n",
    "bargap = 0.2,showlegend=False)\n",
    "fig"
   ]
  },
  {
   "cell_type": "markdown",
   "metadata": {},
   "source": [
    "### A Bit More of Styling (Stacking one histogram on top of another histogram"
   ]
  },
  {
   "cell_type": "code",
   "execution_count": null,
   "metadata": {},
   "outputs": [],
   "source": [
    "df_tips = px.data.tips()\n",
    "px.histogram(df_tips,x='total_bill', color='sex')"
   ]
  },
  {
   "cell_type": "markdown",
   "metadata": {},
   "source": [
    "# BOX PLOTS"
   ]
  },
  {
   "cell_type": "code",
   "execution_count": null,
   "metadata": {},
   "outputs": [],
   "source": [
    "df_tips = px.data.tips()\n",
    "px.box(df_tips,x='sex',y= 'tip',points='all')"
   ]
  },
  {
   "cell_type": "code",
   "execution_count": null,
   "metadata": {},
   "outputs": [],
   "source": [
    "# These are without the pointers.\n",
    "df_tips = px.data.tips()\n",
    "px.box(df_tips,x='sex',y= 'tip')"
   ]
  },
  {
   "cell_type": "code",
   "execution_count": null,
   "metadata": {},
   "outputs": [],
   "source": [
    "df_tips = px.data.tips()\n",
    "px.box(df_tips,x='sex',y= 'tip')\n",
    "\n",
    "px.box(df_tips,x='day',y='tip',color='sex')"
   ]
  },
  {
   "cell_type": "code",
   "execution_count": null,
   "metadata": {},
   "outputs": [],
   "source": [
    "#Adding standard Deviation on the box plot\n",
    "df_tips = px.data.tips()\n",
    "px.box(df_tips,x='sex',y= 'tip')\n",
    "\n",
    "px.box(df_tips,x='day',y='tip',color='sex')\n",
    "\n",
    "fig = go.Figure()\n",
    "fig.add_trace(go.Box(x=df_tips.sex,y=df_tips.tip,\n",
    "                     marker_color='blue',\n",
    "                    boxmean='sd'))"
   ]
  },
  {
   "cell_type": "code",
   "execution_count": null,
   "metadata": {},
   "outputs": [],
   "source": [
    "# Very Complicated Boxplot\n",
    "df_stocks = px.data.stocks()\n",
    "fig = go.Figure()\n",
    "fig.add_trace(go.Box(y=df_stocks.GOOG,boxpoints='all',\n",
    "                    fillcolor='blue',jitter=0.5,whiskerwidth=0.2))\n",
    "fig.add_trace(go.Box(y=df_stocks.AAPL,boxpoints='all',\n",
    "                    fillcolor='red',jitter=0.5,whiskerwidth=0.2))"
   ]
  },
  {
   "cell_type": "code",
   "execution_count": null,
   "metadata": {},
   "outputs": [],
   "source": [
    "# Updating Layout\n",
    "df_stocks = px.data.stocks()\n",
    "fig = go.Figure()\n",
    "fig.add_trace(go.Box(y=df_stocks.GOOG,boxpoints='all',\n",
    "                    fillcolor='blue',jitter=0.5,whiskerwidth=0.2,name='Google'))\n",
    "fig.add_trace(go.Box(y=df_stocks.AAPL,boxpoints='all',\n",
    "                    fillcolor='red',jitter=0.5,whiskerwidth=0.2,name='Apple'))\n",
    "\n",
    "fig.update_layout(title='Google vs. Apple', yaxis=dict(gridcolor='rgb(225,225,225)',\n",
    "                                                      gridwidth = 3),\n",
    "                 paper_bgcolor = 'rgb(243,243,243)',\n",
    "                  plot_bgcolor = 'rgb(243,243,243)')"
   ]
  },
  {
   "cell_type": "markdown",
   "metadata": {},
   "source": [
    "# Violin Plots"
   ]
  },
  {
   "cell_type": "code",
   "execution_count": null,
   "metadata": {},
   "outputs": [],
   "source": [
    "df_tips = px.data.tips()\n",
    "px.violin(df_tips,y='total_bill',box=True,points='all')"
   ]
  },
  {
   "cell_type": "markdown",
   "metadata": {},
   "source": [
    "## Showing Multiple Plots at once\n"
   ]
  },
  {
   "cell_type": "code",
   "execution_count": null,
   "metadata": {},
   "outputs": [],
   "source": [
    "df_tips = px.data.tips()\n",
    "px.violin(df_tips,y='total_bill',box=True,points='all')\n",
    "\n",
    "px.violin(df_tips,y='tip',x='smoker',color='sex',box=True,points='all')"
   ]
  },
  {
   "cell_type": "code",
   "execution_count": null,
   "metadata": {},
   "outputs": [],
   "source": [
    "df_tips = px.data.tips()\n",
    "px.violin(df_tips,y='total_bill',box=True,points='all')\n",
    "\n",
    "px.violin(df_tips,y='tip',x='smoker',color='sex',box=True,points='all',hover_data=df_tips.columns)"
   ]
  },
  {
   "cell_type": "markdown",
   "metadata": {},
   "source": [
    "## Doing something more complicated"
   ]
  },
  {
   "cell_type": "code",
   "execution_count": null,
   "metadata": {},
   "outputs": [],
   "source": [
    "df_tips = px.data.tips()\n",
    "px.violin(df_tips,y='total_bill',box=True,points='all')\n",
    "\n",
    "px.violin(df_tips,y='tip',x='smoker',color='sex',box=True,points='all',hover_data=df_tips.columns)\n",
    "\n",
    "fig = go.Figure()\n",
    "fig.add_trace(go.Violin(x=df_tips['day'][df_tips['smoker']=='Yes'],y=df_tips['total_bill'][df_tips['smoker']=='Yes'],\n",
    "                       legendgroup='Yes',scalegroup='Yes',name='Yes',side='negative',line_color='blue'))"
   ]
  },
  {
   "cell_type": "code",
   "execution_count": null,
   "metadata": {},
   "outputs": [],
   "source": [
    "# Making more modifications\n",
    "df_tips = px.data.tips()\n",
    "px.violin(df_tips,y='total_bill',box=True,points='all')\n",
    "\n",
    "px.violin(df_tips,y='tip',x='smoker',color='sex',box=True,points='all',hover_data=df_tips.columns)\n",
    "\n",
    "fig = go.Figure()\n",
    "fig.add_trace(go.Violin(x=df_tips['day'][df_tips['smoker']=='Yes'],y=df_tips['total_bill'][df_tips['smoker']=='Yes'],\n",
    "                       legendgroup='Yes',scalegroup='Yes',name='Yes',side='negative',line_color='blue'))\n",
    "fig.add_trace(go.Violin(x=df_tips['day'][df_tips['smoker']=='No'],y=df_tips['total_bill'][df_tips['smoker']=='No'],\n",
    "                       legendgroup='Yes',scalegroup='Yes',name='Yes',side='positive',line_color='red'))"
   ]
  },
  {
   "cell_type": "markdown",
   "metadata": {},
   "source": [
    "# Density Heat Maps"
   ]
  },
  {
   "cell_type": "code",
   "execution_count": null,
   "metadata": {},
   "outputs": [],
   "source": [
    "flights = sns.load_dataset('flights')\n",
    "flights.head()"
   ]
  },
  {
   "cell_type": "code",
   "execution_count": null,
   "metadata": {},
   "outputs": [],
   "source": [
    "#setting bins = nbinsx , nbinsy (if required)"
   ]
  },
  {
   "cell_type": "code",
   "execution_count": null,
   "metadata": {},
   "outputs": [],
   "source": [
    "fig = px.density_heatmap(flights,x='year',y='month',z='passengers',\n",
    "                        color_continuous_scale='Viridis')\n",
    "fig"
   ]
  },
  {
   "cell_type": "code",
   "execution_count": null,
   "metadata": {},
   "outputs": [],
   "source": [
    "#This is just to check if there are missing values also sns.heatmap is better\n",
    "fig = px.density_heatmap(flights.isnull(),color_continuous_scale='Viridis')\n",
    "fig"
   ]
  },
  {
   "cell_type": "code",
   "execution_count": null,
   "metadata": {},
   "outputs": [],
   "source": [
    "# Addingg Histogram\n",
    "fig = px.density_heatmap(flights,x='year',y='month',z='passengers',marginal_x='histogram',marginal_y='histogram')\n",
    "fig"
   ]
  },
  {
   "cell_type": "markdown",
   "metadata": {},
   "source": [
    "# 3D Scatter Plots"
   ]
  },
  {
   "cell_type": "code",
   "execution_count": null,
   "metadata": {},
   "outputs": [],
   "source": [
    "fig = px.scatter_3d(flights,x='year',y='month',z='passengers',color='year',opacity=0.7)\n",
    "fig"
   ]
  },
  {
   "cell_type": "markdown",
   "metadata": {},
   "source": [
    "# 3D Line Plots"
   ]
  },
  {
   "cell_type": "code",
   "execution_count": null,
   "metadata": {},
   "outputs": [],
   "source": [
    "fig = px.line_3d(flights,x='year',y='month',z='passengers',color='year')\n",
    "fig"
   ]
  },
  {
   "cell_type": "markdown",
   "metadata": {},
   "source": [
    "# Scatter Matrix"
   ]
  },
  {
   "cell_type": "code",
   "execution_count": null,
   "metadata": {},
   "outputs": [],
   "source": [
    "fig = px.scatter_matrix(flights,color='month')\n",
    "fig"
   ]
  },
  {
   "cell_type": "markdown",
   "metadata": {},
   "source": [
    "# MAP Scatter Plots"
   ]
  },
  {
   "cell_type": "code",
   "execution_count": null,
   "metadata": {},
   "outputs": [],
   "source": [
    "import plotly.express as px\n",
    "df = px.data.gapminder().query(\"year == 2007\")\n",
    "fig = px.scatter_geo(df, locations=\"iso_alpha\",\n",
    "                     color=\"continent\", # which column to use to set the color of markers\n",
    "                     hover_name=\"country\", # column added to hover information\n",
    "                     size=\"pop\", # size of markers\n",
    "                     projection=\"orthographic\") # natural earth is another type of graph\n",
    "fig.show()"
   ]
  },
  {
   "cell_type": "markdown",
   "metadata": {},
   "source": [
    "# Choropleth Maps"
   ]
  },
  {
   "cell_type": "code",
   "execution_count": null,
   "metadata": {},
   "outputs": [],
   "source": [
    "# You can color complex maps like we do here representing unemployment data\n",
    "\n",
    "# Allows us to grab data from a supplied URL\n",
    "from urllib.request import urlopen\n",
    "# Used to decode JSON data\n",
    "import json\n",
    "# Grab US county geometry data\n",
    "with urlopen('https://raw.githubusercontent.com/plotly/datasets/master/geojson-counties-fips.json') as response:\n",
    "    counties = json.load(response)\n",
    "\n",
    "# Grab unemployment data based on each counties Federal Information Processing number\n",
    "df = pd.read_csv(\"https://raw.githubusercontent.com/plotly/datasets/master/fips-unemp-16.csv\",\n",
    "                   dtype={\"fips\": str})\n",
    "\n",
    "# Draw map using the county JSON data, color using unemployment values on a range of 12\n",
    "fig = px.choropleth(df, geojson=counties, locations='fips', color='unemp',\n",
    "                           color_continuous_scale=\"Viridis\",\n",
    "                           range_color=(0, 12),\n",
    "                           scope=\"usa\",\n",
    "                           labels={'unemp':'unemployment rate'}\n",
    "                          )\n",
    "fig"
   ]
  },
  {
   "cell_type": "markdown",
   "metadata": {},
   "source": [
    "# Polar Chart "
   ]
  },
  {
   "cell_type": "code",
   "execution_count": null,
   "metadata": {},
   "outputs": [],
   "source": [
    "df_wind = px.data.wind()\n",
    "df_wind.head()"
   ]
  },
  {
   "cell_type": "code",
   "execution_count": null,
   "metadata": {},
   "outputs": [],
   "source": [
    "# Polar chart\n",
    "px.scatter_polar(df_wind,r='frequency',theta='direction', color='strength',size='frequency',symbol='strength')"
   ]
  },
  {
   "cell_type": "code",
   "execution_count": null,
   "metadata": {},
   "outputs": [],
   "source": [
    "# Line polar Chart\n",
    "px.line_polar(df_wind,r='frequency',theta='direction', color='strength',line_close= True,template=\"plotly_dark\")"
   ]
  },
  {
   "cell_type": "markdown",
   "metadata": {},
   "source": [
    "# Ternary Plot"
   ]
  },
  {
   "cell_type": "code",
   "execution_count": null,
   "metadata": {},
   "outputs": [],
   "source": [
    "df_exp = px.data.experiment()\n",
    "df_exp"
   ]
  },
  {
   "cell_type": "code",
   "execution_count": null,
   "metadata": {},
   "outputs": [],
   "source": [
    "px.scatter_ternary(df_exp,a='experiment_1',b='experiment_2',c='experiment_3',hover_name='group',color='gender')"
   ]
  },
  {
   "cell_type": "markdown",
   "metadata": {},
   "source": [
    "# Facet Plots"
   ]
  },
  {
   "cell_type": "code",
   "execution_count": null,
   "metadata": {},
   "outputs": [],
   "source": [
    "df_tips = px.data.tips()\n",
    "df_tips.head()"
   ]
  },
  {
   "cell_type": "code",
   "execution_count": null,
   "metadata": {},
   "outputs": [],
   "source": [
    "px.scatter(df_tips,x='total_bill',y='tip',color='smoker',facet_col='sex')"
   ]
  },
  {
   "cell_type": "code",
   "execution_count": null,
   "metadata": {},
   "outputs": [],
   "source": [
    "# upgrading\n",
    "px.histogram(df_tips,x='total_bill',y='tip',color='sex',facet_row='time',facet_col='day',category_orders={'day':[\"Thur\", \"Fri\", \"Sat\", \"Sun\"], \"time\": [\"Lunch\", \"Dinner\"]})"
   ]
  },
  {
   "cell_type": "code",
   "execution_count": null,
   "metadata": {},
   "outputs": [],
   "source": [
    "# FaceT plot using multiple data set\n",
    "att_df = sns.load_dataset('attention')\n",
    "px.line(att_df,x='solutions',y='score',facet_col='subject',\n",
    "       facet_col_wrap=5,title='Scores based on Attention')"
   ]
  },
  {
   "cell_type": "markdown",
   "metadata": {},
   "source": [
    "# Animation Plots"
   ]
  },
  {
   "cell_type": "code",
   "execution_count": null,
   "metadata": {},
   "outputs": [],
   "source": [
    "# Create an animated plot that you can use to cycle through continent\n",
    "# GDP & life expectancy changes\n",
    "df_cnt = px.data.gapminder()\n",
    "px.scatter(df_cnt,x='gdpPercap',y='lifeExp',animation_frame='year',\n",
    "          animation_group='country',\n",
    "          size='pop',\n",
    "          color = 'continent',\n",
    "          hover_name='country',log_x=True,size_max= 55, range_x=[100,100000],range_y=[25,90])"
   ]
  },
  {
   "cell_type": "code",
   "execution_count": null,
   "metadata": {},
   "outputs": [],
   "source": [
    "# Watch as bars chart population changes\n",
    "px.bar(df_cnt, x=\"continent\", y=\"pop\", color=\"continent\",\n",
    "  animation_frame=\"year\", animation_group=\"country\", range_y=[0,4000000000])"
   ]
  },
  {
   "cell_type": "code",
   "execution_count": null,
   "metadata": {},
   "outputs": [],
   "source": []
  }
 ],
 "metadata": {
  "kernelspec": {
   "display_name": "Python 3",
   "language": "python",
   "name": "python3"
  },
  "language_info": {
   "codemirror_mode": {
    "name": "ipython",
    "version": 3
   },
   "file_extension": ".py",
   "mimetype": "text/x-python",
   "name": "python",
   "nbconvert_exporter": "python",
   "pygments_lexer": "ipython3",
   "version": "3.8.5"
  }
 },
 "nbformat": 4,
 "nbformat_minor": 4
}
